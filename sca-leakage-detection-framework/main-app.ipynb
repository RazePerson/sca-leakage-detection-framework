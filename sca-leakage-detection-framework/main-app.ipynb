{
 "cells": [
  {
   "cell_type": "markdown",
   "metadata": {},
   "source": [
    "# Leakage Detection Framework\n",
    "This is a framework for TVLA. The goal of this framework is to make it easier for researchers, scientists, or anyone interested in using TVLA for leakage detection."
   ]
  },
  {
   "cell_type": "markdown",
   "metadata": {},
   "source": [
    "For basic functionality, the only class that needs to be imported is the *LeakageDetectionFramework*."
   ]
  },
  {
   "cell_type": "code",
   "execution_count": 1,
   "metadata": {},
   "outputs": [],
   "source": [
    "from core import LeakageDetectionFramework\n",
    "import numpy as np"
   ]
  },
  {
   "source": [
    "Using an instance of the *LeakageDetectionFramework*, we can already do a few basic things. We can already load trace data from an *npz* file that will automatically be loaded into and interpreted by a data handler class. We will touch on this later. For now we will focus on the framework instance itself, because the rest is happening under the hood.\n",
    "The following code will load the trace data from the *npz* file and using Welch's t-test, it will calculate the t statistic."
   ],
   "cell_type": "markdown",
   "metadata": {}
  },
  {
   "cell_type": "code",
   "execution_count": 3,
   "metadata": {},
   "outputs": [
    {
     "output_type": "stream",
     "name": "stdout",
     "text": [
      "Results for t-satistics: [-0.22990521  0.49794166  0.65197626 ... 33.54417795 32.84687168\n 32.03226545]\n9390\n"
     ]
    }
   ],
   "source": [
    "# Create the instance\n",
    "ldf = LeakageDetectionFramework()\n",
    "\n",
    "# Load the data\n",
    "ldf.load_data(\"../traces/REASSURE_power_Unprotected_AES_fixed_vs_random_Exp1.npz\")\n",
    "\n",
    "# Calculate t_statistic using Welch's t-test\n",
    "t_statistic = ldf.calculate_t_statistic()\n",
    "\n",
    "# Get the indices of the leaky samples for further analysis\n",
    "leakage = ldf.indices_of_leaky_samples(t_statistic, range(0,13900), 4.5)\n",
    "\n",
    "print('Results for t-satistics: %s' % t_statistic)\n",
    "\n",
    "# We can print, for example the number of total leaky points\n",
    "leaky_indices = leakage==True\n",
    "print(leakage[leaky_indices].sum())\n"
   ]
  },
  {
   "source": [],
   "cell_type": "markdown",
   "metadata": {}
  },
  {
   "cell_type": "code",
   "execution_count": 3,
   "metadata": {},
   "outputs": [
    {
     "output_type": "error",
     "ename": "NameError",
     "evalue": "name 'TraceData' is not defined",
     "traceback": [
      "\u001b[0;31m---------------------------------------------------------------------------\u001b[0m",
      "\u001b[0;31mNameError\u001b[0m                                 Traceback (most recent call last)",
      "\u001b[0;32m<ipython-input-3-2070de264a7e>\u001b[0m in \u001b[0;36m<module>\u001b[0;34m\u001b[0m\n\u001b[0;32m----> 1\u001b[0;31m \u001b[0mTraceData\u001b[0m\u001b[0;34m.\u001b[0m\u001b[0mget_instance\u001b[0m\u001b[0;34m(\u001b[0m\u001b[0;34m)\u001b[0m\u001b[0;34m.\u001b[0m\u001b[0mget_all_traces\u001b[0m\u001b[0;34m(\u001b[0m\u001b[0;34m)\u001b[0m\u001b[0;34m\u001b[0m\u001b[0;34m\u001b[0m\u001b[0m\n\u001b[0m",
      "\u001b[0;31mNameError\u001b[0m: name 'TraceData' is not defined"
     ]
    }
   ],
   "source": [
    "TraceData.get_instance().get_all_traces()"
   ]
  }
 ],
 "metadata": {
  "kernelspec": {
   "name": "python3",
   "display_name": "Python 3.8.5 64-bit",
   "metadata": {
    "interpreter": {
     "hash": "916dbcbb3f70747c44a77c7bcd40155683ae19c65e1c03b4aa3499c5328201f1"
    }
   }
  },
  "language_info": {
   "codemirror_mode": {
    "name": "ipython",
    "version": 3
   },
   "file_extension": ".py",
   "mimetype": "text/x-python",
   "name": "python",
   "nbconvert_exporter": "python",
   "pygments_lexer": "ipython3",
   "version": "3.8.5-final"
  }
 },
 "nbformat": 4,
 "nbformat_minor": 4
}