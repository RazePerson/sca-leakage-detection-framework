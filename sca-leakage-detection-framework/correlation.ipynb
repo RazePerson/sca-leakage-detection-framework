{
 "metadata": {
  "language_info": {
   "codemirror_mode": {
    "name": "ipython",
    "version": 3
   },
   "file_extension": ".py",
   "mimetype": "text/x-python",
   "name": "python",
   "nbconvert_exporter": "python",
   "pygments_lexer": "ipython3",
   "version": "3.8.5"
  },
  "orig_nbformat": 2,
  "kernelspec": {
   "name": "python385jvsc74a57bd05b3ded1ccb95c1d9bd405e7b823d9e85424cde40fbb5985eb47e999ef50e15b4",
   "display_name": "Python 3.8.5 64-bit"
  },
  "metadata": {
   "interpreter": {
    "hash": "5b3ded1ccb95c1d9bd405e7b823d9e85424cde40fbb5985eb47e999ef50e15b4"
   }
  }
 },
 "nbformat": 4,
 "nbformat_minor": 2,
 "cells": [
  {
   "cell_type": "code",
   "execution_count": 1,
   "metadata": {},
   "outputs": [
    {
     "output_type": "stream",
     "name": "stdout",
     "text": [
      "Trace shape: [2560][16000]\n",
      "Rho shape: [10][16000]\n",
      "Traces in test set:  256\n",
      "[0.06321754 0.25162198 0.42395491 ... 0.24150787 0.2529889  0.21697081]\n",
      "Result:  Leaky samples: [2505 2506 2507 2508 2509 2510 2511 2512 2513 2514 2515 2673 2674 2675\n",
      " 2676 2677 2678 2679 2680 2685 2686 2721 2881 2882 2883 2884 2885 2886\n",
      " 2887 2888 2889 2890 2891 2892 2893 2894 2895 2896 2897 2898 2899 2900\n",
      " 3177 3178 3179 3180 3181 3182 3183 3184 3197 3198 3199 3200 3201 3202\n",
      " 3203 3204 3297 3298 3299 3300]\n",
      "Nr. of leaky points: 62\n"
     ]
    }
   ],
   "source": [
    "from core import LeakageDetectionFramework\n",
    "from leak_calc import TestType\n",
    "# Create the instance\n",
    "ldf = LeakageDetectionFramework(TestType.correlation_test)\n",
    "\n",
    "# Load the data\n",
    "ldf.load_data(\"../traces/REASSURE_power_Unprotected_AES_RHO_rand.npz\")\n",
    "\n",
    "# Execute the correlation test\n",
    "result = ldf.execute_test()\n",
    "\n",
    "print(\"Result: \", result)"
   ]
  },
  {
   "cell_type": "code",
   "execution_count": 3,
   "metadata": {},
   "outputs": [],
   "source": [
    "from data import TraceData\n",
    "from leak_calc import Tester\n",
    "\n",
    "class PersonalisedTestData(TraceData):\n",
    "    __instance = None\n",
    "\n",
    "    @staticmethod\n",
    "    def get_instance():\n",
    "        if PersonalisedTestData.__instance is None:\n",
    "            PersonalisedTestData()\n",
    "        return PersonalisedTestData.__instance\n",
    "\n",
    "    def __init__(self):\n",
    "        if PersonalisedTestData.__instance is not None:\n",
    "            raise Exception(\"This class is a singleton\")\n",
    "        else:\n",
    "            PersonalisedTestData.__instance = self\n",
    "            \n",
    "class PersonalisedTestResult:\n",
    "    def __str__(self):\n",
    "        return \"Executed personalised test.\"\n",
    "\n",
    "class PersonalisedTest(Tester):\n",
    "    def __init__(self):\n",
    "        self.data_loader = PersonalisedTestData.get_instance()\n",
    "\n",
    "    def execute_test(self):\n",
    "        return PersonalisedTestResult()"
   ]
  },
  {
   "cell_type": "code",
   "execution_count": null,
   "metadata": {},
   "outputs": [],
   "source": []
  }
 ]
}